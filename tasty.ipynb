{
 "cells": [
  {
   "cell_type": "markdown",
   "metadata": {},
   "source": [
    "The base url for all sandbox api endpoints is api.cert.tastyworks.com\n",
    "The websocket url for account streamer updates is streamer.cert.tastyworks.com"
   ]
  },
  {
   "cell_type": "code",
   "execution_count": null,
   "metadata": {},
   "outputs": [],
   "source": [
    "from tastytrade import Account, Session\n",
    "import json\n",
    "with open('session.json', 'r') as file:\n",
    "    credentials = json.load(file)\n",
    "    \n",
    "session = Session(credentials['username'], credentials['password'], is_test=True) # is_test uses a sandbox account\n",
    "accounts = await Account.a_get_accounts(session)"
   ]
  },
  {
   "cell_type": "code",
   "execution_count": null,
   "metadata": {},
   "outputs": [],
   "source": [
    "if len(accounts) == 1:\n",
    "    account = accounts[0]\n",
    "    balance = account.get_balances(session)\n",
    "    print(f\"Loading single account: {balance.account_number} \\t ${balance.cash_balance}\")\n",
    "    positions = account.get_positions(session)\n",
    "    print(f\"Total positions: {len(positions)}\")"
   ]
  },
  {
   "cell_type": "code",
   "execution_count": 63,
   "metadata": {},
   "outputs": [],
   "source": [
    "import tastytrade\n",
    "import pandas as pd"
   ]
  },
  {
   "cell_type": "code",
   "execution_count": null,
   "metadata": {},
   "outputs": [],
   "source": [
    "from tastytrade.dxfeed import Greeks\n",
    "from tastytrade.instruments import get_option_chain\n",
    "from tastytrade.utils import get_tasty_monthly\n",
    "\n",
    "chain = get_option_chain(session, 'SPLG')\n",
    "exp = get_tasty_monthly()  # 45 DTE expiration!\n",
    "subs_list = [chain[exp][0].streamer_symbol]\n",
    "\n",
    "# subs_list = [chain[exp][0]]\n",
    "# print(subs_list)\n",
    "\n",
    "async with tastytrade.DXLinkStreamer(session) as streamer:\n",
    "    await streamer.subscribe(Greeks, subs_list)\n",
    "    greeks = await streamer.get_event(Greeks)\n",
    "    print(greeks)"
   ]
  },
  {
   "cell_type": "code",
   "execution_count": 57,
   "metadata": {},
   "outputs": [],
   "source": [
    "from tastytrade import Session, DXLinkStreamer\n",
    "from tastytrade.instruments import get_option_chain\n",
    "from tastytrade.utils import get_tasty_monthly\n",
    "from tastytrade.dxfeed import Greeks, Quote\n",
    "import asyncio\n",
    "from datetime import datetime, timedelta\n",
    "\n",
    "from decimal import Decimal\n",
    "\n",
    "async def get_underlying_price(session, symbol):\n",
    "    async with DXLinkStreamer(session) as streamer:\n",
    "        await streamer.subscribe(Quote, [symbol])\n",
    "        quote = await streamer.get_event(Quote)\n",
    "        if quote:\n",
    "            return Decimal(str((quote.bidPrice + quote.askPrice) / 2))\n",
    "    return None\n",
    "\n",
    "async def get_option_ivr(session, symbol):\n",
    "    chain = get_option_chain(session, symbol)\n",
    "    exp = get_tasty_monthly()  # This gets the expiration closest to 45 DTE\n",
    "    \n",
    "    underlying_price = await get_underlying_price(session, symbol)\n",
    "    if underlying_price is None:\n",
    "        return None\n",
    "    \n",
    "    # Get the ATM (At The Money) option\n",
    "    atm_option = min(chain[exp], key=lambda x: abs(x.strike_price - underlying_price))\n",
    "    \n",
    "    async with DXLinkStreamer(session) as streamer:\n",
    "        await streamer.subscribe(Greeks, [atm_option.streamer_symbol])\n",
    "        greeks = await streamer.get_event(Greeks)\n",
    "        \n",
    "        if greeks:\n",
    "            return {\n",
    "                'symbol': symbol,\n",
    "                'expiration': exp,\n",
    "                'strike': atm_option.strike_price,\n",
    "                'ivr': greeks.volatility  # This is actually IV, not IVR\n",
    "            }\n",
    "        else:\n",
    "            return None"
   ]
  },
  {
   "cell_type": "code",
   "execution_count": 80,
   "metadata": {},
   "outputs": [],
   "source": [
    "stock_list = [\n",
    "    'SPY',   # SPDR S&P 500 ETF\n",
    "    'QQQ',   # Invesco QQQ Trust (tracks Nasdaq-100)\n",
    "    'NVDA',  # Nvidia\n",
    "    'TSLA',  # Tesla\n",
    "    'AAPL',  # Apple\n",
    "    'AMZN',  # Amazon\n",
    "    'MSFT',  # Microsoft\n",
    "    'AMD',   # Advanced Micro Devices\n",
    "    'META',  # Meta Platforms (formerly Facebook)\n",
    "    'GOOGL', # Alphabet (Google)\n",
    "    'NFLX',  # Netflix\n",
    "    'IWM',   # iShares Russell 2000 ETF\n",
    "    'INTC',  # Intel\n",
    "    'PLTR',  # Palantir Technologies\n",
    "    'CRM',   # Salesforce\n",
    "    'HUBS',  # HubSpot\n",
    "    'GME',   # GameStop\n",
    "    'CAT',   # Caterpillar\n",
    "    'BA',    # Boeing\n",
    "    'FXI',   # iShares China Large Cap ETF\n",
    "    'LRCX',  # Lam Research\n",
    "    'WHR',   # Whirlpool\n",
    "    'TMUS',  # T-Mobile\n",
    "    'ANET',  # Arista Networks\n",
    "    'GE',    # General Electric\n",
    "    'MS',    # Morgan Stanley\n",
    "    'NVAX',  # Novavax\n",
    "    'ACGL',  # Arch Capital Group\n",
    "    'ETSY',  # Etsy\n",
    "    'IRTC',  # iRhythm Technologies\n",
    "    'BTI',    # British American Tobacco\n",
    "    'T',\n",
    "    'F',\n",
    "]\n",
    "tasks = [get_option_ivr(session, symbol) for symbol in stock_list]\n",
    "results = await asyncio.gather(*tasks)"
   ]
  },
  {
   "cell_type": "code",
   "execution_count": null,
   "metadata": {},
   "outputs": [],
   "source": [
    "# Get today's date\n",
    "from datetime import datetime, date\n",
    "today = date.today()\n",
    "\n",
    "# Create a list of dictionaries from the results\n",
    "data = [\n",
    "    {\n",
    "        \"Symbol\": result['symbol'],\n",
    "        \"Expiration\": result['expiration'],\n",
    "        \"Days to Expiration\": (result['expiration'] - today).days,\n",
    "        \"Strike\": result['strike'],\n",
    "        \"IV\": result['ivr'],\n",
    "    }\n",
    "    for result in results if result\n",
    "]\n",
    "\n",
    "# Create a DataFrame\n",
    "df = pd.DataFrame(data)\n",
    "\n",
    "# Filter the DataFrame to show only options with IV over 60%\n",
    "df_filtered = df[df['IV'] > 0.55]\n",
    "\n",
    "# Display the DataFrame as an interactive table\n",
    "display(df_filtered)"
   ]
  }
 ],
 "metadata": {
  "kernelspec": {
   "display_name": ".venv",
   "language": "python",
   "name": "python3"
  },
  "language_info": {
   "codemirror_mode": {
    "name": "ipython",
    "version": 3
   },
   "file_extension": ".py",
   "mimetype": "text/x-python",
   "name": "python",
   "nbconvert_exporter": "python",
   "pygments_lexer": "ipython3",
   "version": "3.11.9"
  }
 },
 "nbformat": 4,
 "nbformat_minor": 2
}
