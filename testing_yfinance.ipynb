{
 "cells": [
  {
   "cell_type": "code",
   "execution_count": 103,
   "metadata": {},
   "outputs": [],
   "source": [
    "import yfinance as yf\n",
    "import pandas as pd\n",
    "from datetime import datetime, timedelta\n",
    "from IPython.display import display, HTML\n",
    "import numpy as np\n",
    "\n",
    "# Get list of S&P 500 symbols\n",
    "table = pd.read_html('https://en.wikipedia.org/wiki/List_of_S%26P_500_companies')\n",
    "df = table[0]\n",
    "top_symbols = df['Symbol'].tolist()[:5]  # Limiting to 50 for demonstration\n",
    "\n",
    "# Set target date (45 days from now)\n",
    "target_date = datetime.now() + timedelta(days=45)"
   ]
  },
  {
   "cell_type": "code",
   "execution_count": 104,
   "metadata": {},
   "outputs": [],
   "source": [
    "# Function to find closest expiration date\n",
    "def find_closest_expiration(expiration_dates, target_date):\n",
    "    return min(expiration_dates, key=lambda x: abs(datetime.strptime(x, \"%Y-%m-%d\") - target_date))\n",
    "\n",
    "# Calculate IVR\n",
    "def calculate_ivr(symbol, current_iv):\n",
    "    try:\n",
    "        stock = yf.Ticker(symbol)\n",
    "        hist_volatility = stock.history(period=\"1y\")['Close'].pct_change().std() * np.sqrt(252) * 100\n",
    "        \n",
    "        if hist_volatility.max() == hist_volatility.min():\n",
    "            # If historical volatility is constant, set IVR to 50%\n",
    "            ivr = 50\n",
    "        else:\n",
    "            ivr = (current_iv - hist_volatility.min()) / (hist_volatility.max() - hist_volatility.min()) * 100\n",
    "        \n",
    "        return round(ivr, 2)\n",
    "    except Exception as e:\n",
    "        print(f\"Error calculating IVR for {symbol}: {str(e)}\")\n",
    "        return np.nan"
   ]
  },
  {
   "cell_type": "code",
   "execution_count": 105,
   "metadata": {},
   "outputs": [
    {
     "name": "stdout",
     "output_type": "stream",
     "text": [
      "Processing MMM\n",
      "Closest expiration for MMM: 2024-12-20\n",
      "Error processing MMM: 'str' object has no attribute 'strftime'\n",
      "Processing AOS\n",
      "Closest expiration for AOS: 2024-12-20\n",
      "Error processing AOS: 'str' object has no attribute 'strftime'\n",
      "Processing ABT\n",
      "Closest expiration for ABT: 2024-12-20\n",
      "Error processing ABT: 'str' object has no attribute 'strftime'\n",
      "Processing ABBV\n",
      "Closest expiration for ABBV: 2024-12-20\n",
      "Error processing ABBV: 'str' object has no attribute 'strftime'\n",
      "Processing ACN\n",
      "Closest expiration for ACN: 2024-12-20\n",
      "Error processing ACN: 'str' object has no attribute 'strftime'\n"
     ]
    }
   ],
   "source": [
    "results = []\n",
    "\n",
    "# Loop through symbols and get options data\n",
    "for symbol in top_symbols:\n",
    "    try:\n",
    "        print(f\"Processing {symbol}\")\n",
    "        \n",
    "        # Create Ticker object\n",
    "        ticker = yf.Ticker(symbol)\n",
    "        \n",
    "        # Get expiration dates\n",
    "        exp_dates = ticker.options\n",
    "        \n",
    "        if not exp_dates:\n",
    "            print(f\"No expiration dates found for {symbol}\")\n",
    "            continue\n",
    "        \n",
    "        # Find closest expiration date to target\n",
    "        closest_exp = find_closest_expiration(exp_dates, target_date)\n",
    "        print(f\"Closest expiration for {symbol}: {closest_exp}\")\n",
    "        \n",
    "        # Get options chain for closest expiration\n",
    "        opt = ticker.option_chain(closest_exp.strftime(\"%Y-%m-%d\"))\n",
    "        \n",
    "        if opt.calls.empty or opt.puts.empty:\n",
    "            print(f\"No options data for {symbol}\")\n",
    "            continue\n",
    "        \n",
    "        # Get stock price\n",
    "        stock_price = ticker.info.get('regularMarketPrice')\n",
    "        if stock_price is None:\n",
    "            print(f\"No current price available for {symbol}\")\n",
    "            continue\n",
    "        \n",
    "        # Get ATM option\n",
    "        atm_call = opt.calls.iloc[(opt.calls['strike'] - stock_price).abs().idxmin()]\n",
    "        \n",
    "        # Store results\n",
    "        results.append({\n",
    "            \"Symbol\": symbol,\n",
    "            \"Expiration\": closest_exp,\n",
    "            \"Days_To_Expiration\": (closest_exp - datetime.now()).days,\n",
    "            \"Strike\": atm_call['strike'],\n",
    "            \"Current_Price\": stock_price,\n",
    "            \"Call_Price\": atm_call['lastPrice'],\n",
    "            \"Implied_Volatility\": round(atm_call['impliedVolatility'] * 100, 2),\n",
    "            \"Volume\": atm_call['volume'],\n",
    "            \"Open_Interest\": atm_call['openInterest']\n",
    "        })\n",
    "        \n",
    "        print(f\"Successfully processed {symbol}\")\n",
    "        \n",
    "    except Exception as e:\n",
    "        print(f\"Error processing {symbol}: {str(e)}\")"
   ]
  },
  {
   "cell_type": "code",
   "execution_count": null,
   "metadata": {},
   "outputs": [],
   "source": []
  }
 ],
 "metadata": {
  "kernelspec": {
   "display_name": ".venv",
   "language": "python",
   "name": "python3"
  },
  "language_info": {
   "codemirror_mode": {
    "name": "ipython",
    "version": 3
   },
   "file_extension": ".py",
   "mimetype": "text/x-python",
   "name": "python",
   "nbconvert_exporter": "python",
   "pygments_lexer": "ipython3",
   "version": "3.11.9"
  }
 },
 "nbformat": 4,
 "nbformat_minor": 2
}
